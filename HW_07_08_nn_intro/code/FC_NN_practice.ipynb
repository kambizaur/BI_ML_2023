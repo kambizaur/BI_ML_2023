{
  "nbformat": 4,
  "nbformat_minor": 0,
  "metadata": {
    "colab": {
      "provenance": []
    },
    "kernelspec": {
      "name": "python3",
      "display_name": "Python 3"
    },
    "language_info": {
      "name": "python"
    },
    "gpuClass": "standard"
  },
  "cells": [
    {
      "cell_type": "markdown",
      "source": [
        "Всем привет! Сегодня вы впервые попробуете написать свою собственную нейронную сеть и попробовать ее обучить. Мы будем работать с картинками, но пока что не совсем тем способом, которым лучше всего это делать, но должно получиться неплохо.\n",
        "\n",
        "Будем работать с [датасетом](https://github.com/rois-codh/kmnist) `Kuzushiji-MNIST` (`KMNIST`). Это рукописные буквы, изображения имеют размер (28, 28, 1) и разделены на 10 классов, по ссылке можно прочитать подробнее."
      ],
      "metadata": {
        "id": "-pSGPQS8Btmc"
      }
    },
    {
      "cell_type": "code",
      "source": [
        "import numpy as np\n",
        "import torch\n",
        "import matplotlib.pyplot as plt\n",
        "from IPython.display import clear_output"
      ],
      "metadata": {
        "id": "75HVAP_RFU7r"
      },
      "execution_count": null,
      "outputs": []
    },
    {
      "cell_type": "markdown",
      "source": [
        "## Загрузка данных"
      ],
      "metadata": {
        "id": "46iQ8ixtEruP"
      }
    },
    {
      "cell_type": "markdown",
      "source": [
        "Сейчас мы будем использовать встроенные данные, но в реальности приходится писать свой класс для датасета (Dataset), у которого реализовывать несколько обязательных методов (напр, `__getitem__`), но это обсудим уже потом."
      ],
      "metadata": {
        "id": "R6h1jVreJlV-"
      }
    },
    {
      "cell_type": "code",
      "execution_count": null,
      "metadata": {
        "id": "s9L9Z02o_1bK"
      },
      "outputs": [],
      "source": [
        "import torchvision\n",
        "from torchvision.datasets import KMNIST\n",
        "\n",
        "\n",
        "# Превращает картинки в тензоры\n",
        "transform = torchvision.transforms.Compose(\n",
        "    [torchvision.transforms.ToTensor()])\n",
        "\n",
        "# Загрузим данные (в переменных лежат объекты типа `Dataset`)\n",
        "# В аргумент `transform` мы передаем необходимые трансформации (ToTensor)\n",
        "trainset = KMNIST(root=\"./KMNIST\", train=True, download=True, transform=transform)\n",
        "testset = KMNIST(root=\"./KMNIST\", train=False, download=True, transform=transform)\n",
        "\n",
        "clear_output()"
      ]
    },
    {
      "cell_type": "markdown",
      "source": [
        "Определим даталоадеры, они нужны, чтобы реализовывать стохастический градиентный спуск (то есть мы не хотим считывать в оперативную память все картинки сразу, а делать это батчами)."
      ],
      "metadata": {
        "id": "V83E2vDrO9CC"
      }
    },
    {
      "cell_type": "code",
      "source": [
        "from torch.utils.data import DataLoader\n",
        "\n",
        "\n",
        "# Можно оставить таким\n",
        "batch_size = 256\n",
        "\n",
        "trainloader = DataLoader(trainset, batch_size=batch_size, shuffle=True, num_workers=2)\n",
        "testloader = DataLoader(testset, batch_size=batch_size, shuffle=False, num_workers=2)"
      ],
      "metadata": {
        "id": "oqC8XO8pO8Px"
      },
      "execution_count": null,
      "outputs": []
    },
    {
      "cell_type": "markdown",
      "source": [
        "Подумайте, как может влиять на скорость обучения параметр `batch_size`, почему вы так считаете?\n",
        "\n",
        "**Ответ:**"
      ],
      "metadata": {
        "id": "-Ntp5sLoPyGx"
      }
    },
    {
      "cell_type": "markdown",
      "source": [
        "Чем больше `batch_size`, тем:\n",
        "1. сложнее вычислить один градиент;\n",
        "2. меньше итераций градиентного спуска в одной эпохе;\n",
        "3. выше точность вычисления градиента (по сравнению с вычислением на полном наборе данных), поэтому нужно меньше эпох для сходимости.\n",
        "\n",
        "Полагаю, что пункты 1 и 2 друг друга более-менее уравновешивают, поэтому за счет пункта 3 скорость обучения будет выше при большем значении параметра."
      ],
      "metadata": {
        "id": "96Kv7pI00XeG"
      }
    },
    {
      "cell_type": "markdown",
      "source": [
        "Посмотрим на какую-нибудь картинку:"
      ],
      "metadata": {
        "id": "t2vmM4KaHvrs"
      }
    },
    {
      "cell_type": "code",
      "source": [
        "plt.imshow(trainset[0][0].view(28, 28).numpy(), cmap=\"gray\")\n",
        "plt.axis(\"off\")\n",
        "plt.title(f\"Class is {trainset[0][1]}\", fontsize=16);"
      ],
      "metadata": {
        "colab": {
          "base_uri": "https://localhost:8080/",
          "height": 430
        },
        "id": "N-b-kFCYAoOP",
        "outputId": "3a2c855e-1a5c-48b3-813f-10043aa3f96c"
      },
      "execution_count": null,
      "outputs": [
        {
          "output_type": "display_data",
          "data": {
            "text/plain": [
              "<Figure size 640x480 with 1 Axes>"
            ],
            "image/png": "[encoded data removed]"
          },
          "metadata": {}
        }
      ]
    },
    {
      "cell_type": "markdown",
      "source": [
        "### Задание 1. Смотрим на картинки\n",
        "\n",
        "**2** балла\n",
        "\n",
        "Нарисуйте на одном графике изображения всех 10 классов:"
      ],
      "metadata": {
        "id": "8_MSY231Hzz9"
      }
    },
    {
      "cell_type": "markdown",
      "source": [
        "⣿⣿⣿⣿⣿⣿⠿⢋⣥⣴⣶⣶⣶⣬⣙⠻⠟⣋⣭⣭⣭⣭⡙⠻⣿⣿⣿⣿⣿\n",
        "⣿⣿⣿⣿⡿⢋⣴⣿⣿⠿⢟⣛⣛⣛⠿⢷⡹⣿⣿⣿⣿⣿⣿⣆⠹⣿⣿⣿⣿\n",
        "⣿⣿⣿⡿⢁⣾⣿⣿⣴⣿⣿⣿⣿⠿⠿⠷⠥⠱⣶⣶⣶⣶⡶⠮⠤⣌⡙⢿⣿\n",
        "⣿⡿⢛⡁⣾⣿⣿⣿⡿⢟⡫⢕⣪⡭⠥⢭⣭⣉⡂⣉⡒⣤⡭⡉⠩⣥⣰⠂⠹\n",
        "⡟⢠⣿⣱⣿⣿⣿⣏⣛⢲⣾⣿⠃⠄⠐⠈⣿⣿⣿⣿⣿⣿⠄⠁⠃⢸⣿⣿⡧\n",
        "⢠⣿⣿⣿⣿⣿⣿⣿⣿⣇⣊⠙⠳⠤⠤⠾⣟⠛⠍⣹⣛⣛⣢⣀⣠⣛⡯⢉⣰\n",
        "⣿⣿⣿⣿⣿⣿⣿⣿⣿⣿⣿⣿⣷⡶⠶⢒⣠⣼⣿⣿⣛⠻⠛⢛⣛⠉⣴⣿⣿\n",
        "⣿⣿⣿⣿⣿⣿⣿⡿⢛⡛⢿⣿⣿⣶⣿⣿⣿⣿⣿⣿⣿⣿⣿⣿⣿⣷⡈⢿⣿\n",
        "⣿⣿⣿⣿⣿⣿⣿⠸⣿⡻⢷⣍⣛⠻⠿⠿⣿⣿⣿⣿⣿⣿⣿⣿⣿⠿⢇⡘⣿\n",
        "⣿⣿⣿⣿⣿⣿⣿⣷⣝⠻⠶⣬⣍⣛⣛⠓⠶⠶⠶⠤⠬⠭⠤⠶⠶⠞⠛⣡⣿\n",
        "⢿⣿⣿⣿⣿⣿⣿⣿⣿⣿⣷⣶⣬⣭⣍⣙⣛⣛⣛⠛⠛⠛⠿⠿⠿⠛⣠⣿⣿\n",
        "⣦⣈⠉⢛⠻⠿⠿⢿⣿⣿⣿⣿⣿⣿⣿⣿⣿⣿⣿⡿⠿⠛⣁⣴⣾⣿⣿⣿⣿\n",
        "⣿⣿⣿⣶⣮⣭⣁⣒⣒⣒⠂⠠⠬⠭⠭⠭⢀⣀⣠⣄⡘⠿⣿⣿⣿⣿⣿⣿⣿\n",
        "⣿⣿⣿⣿⣿⣿⣿⣿⣿⣿⣿⣿⣿⣿⣿⣿⣿⣿⣿⣿⣿⣦⡈⢿⣿⣿⣿⣿⣿\n",
        "\n",
        "\n",
        "\n"
      ],
      "metadata": {
        "id": "j0tNdHM5JS6l"
      }
    },
    {
      "cell_type": "code",
      "source": [
        "indices = {}\n",
        "n = 10\n",
        "for i in range(len(trainset)):\n",
        "    if trainset[i][1] not in indices:\n",
        "        indices[trainset[i][1]] = i\n",
        "        n -= 1\n",
        "        if n == 0:\n",
        "            break\n",
        "\n",
        "plt.rcParams[\"figure.figsize\"] = 12, 5\n",
        "\n",
        "for i in range(10):\n",
        "    plt.subplot(2, 5, i+1)\n",
        "    plt.imshow(trainset[indices[i]][0].view(28, 28).numpy(), cmap=\"gray\")\n",
        "    plt.axis(\"off\")\n",
        "    plt.title(f\"Class is {trainset[indices[i]][1]}\", fontsize=16);"
      ],
      "metadata": {
        "id": "x3j6Bsu9AoT6",
        "colab": {
          "base_uri": "https://localhost:8080/",
          "height": 431
        },
        "outputId": "7efc359e-962e-4206-fe53-6e3cd3b00995"
      },
      "execution_count": null,
      "outputs": [
        {
          "output_type": "display_data",
          "data": {
            "text/plain": [
              "<Figure size 1200x500 with 10 Axes>"
            ],
            "image/png": "[encoded data removed]"
          },
          "metadata": {}
        }
      ]
    },
    {
      "cell_type": "markdown",
      "source": [
        "### Задание 2. Строим свой первый MLP\n",
        "\n",
        "**4** балла\n",
        "\n",
        "MLP (multilayer perceptron) или нейронная сеть из полносвязных (линейных) слоев, это мы уже знаем.\n",
        "\n",
        "Опишите структуру сети: 3 полносвязных слоя + функции активации на ваш выбор. **Подумайте** про активацию после последнего слоя!\n",
        "\n",
        "Сеть на выходе 1 слоя должна иметь 256 признаков, на выходе из 2 128 признаков, на выходе из последнего столько, сколько у вас классов.\n",
        " \n",
        "https://pytorch.org/docs/stable/nn.html?highlight=activation#non-linear-activations-weighted-sum-nonlinearity"
      ],
      "metadata": {
        "id": "dLCfnFW-JtGx"
      }
    },
    {
      "cell_type": "code",
      "source": [
        "import torch.nn as nn\n",
        "import torch.nn.functional as F\n",
        "\n",
        "class FCNet(nn.Module):\n",
        "    def __init__(self, activation=F.relu):\n",
        "        super().__init__() #  это надо помнить!\n",
        "        ## YOUR CODE HERE\n",
        "        \n",
        "        # in_features число входов у каждого нейрона, out_features число нейронов\n",
        "        self.fc1 = nn.Linear(in_features=28*28, out_features=256)\n",
        "\n",
        "        # in_features число входов у каждого нейрона, out_features число нейронов\n",
        "        self.fc2 = nn.Linear(in_features=256, out_features=128)\n",
        "\n",
        "        # in_features число нейронов пред слоя, out_features число классов (10)\n",
        "        self.fc3 = nn.Linear(in_features=128, out_features=10)        \n",
        "\n",
        "        self.activation = activation\n",
        "\n",
        "    def forward(self, x):  # Forward вызывается внутри метода __call__ родительского класса\n",
        "        ## x -> тензор размерности (BATCH_SIZE, N_CHANNELS, WIDTH, HEIGHT)\n",
        "        ## надо подумать над тем, что у нас полносвязные слои принимают векторы\n",
        "\n",
        "        ## YOUR CODE HERE\n",
        "\n",
        "        x = x.view(-1, 28*28) # переведем картинку в вектор\n",
        "        x = self.fc1(x)\n",
        "        x = self.activation(x)\n",
        "        x = self.fc2(x)\n",
        "        x = self.activation(x)\n",
        "        x = self.fc3(x)\n",
        "\n",
        "        return x"
      ],
      "metadata": {
        "id": "dhYBvQIXJdSz"
      },
      "execution_count": null,
      "outputs": []
    },
    {
      "cell_type": "markdown",
      "source": [
        "Сколько обучаемых параметров у вашей модели (весов и смещений)?\n",
        "\n",
        "**Ответ:**"
      ],
      "metadata": {
        "id": "uI0R77EQNKef"
      }
    },
    {
      "cell_type": "code",
      "source": [
        "layer1 = (28 * 28 + 1) * 256\n",
        "layer2 = (256 + 1) * 128\n",
        "layer3 = (128 + 1) * 10\n",
        "answer = layer1 + layer2 + layer3\n",
        "print(answer)"
      ],
      "metadata": {
        "id": "MvGiuoykrzzJ",
        "colab": {
          "base_uri": "https://localhost:8080/"
        },
        "outputId": "2625c85d-9f1b-48a1-ea02-27f4b1b8c321"
      },
      "execution_count": null,
      "outputs": [
        {
          "output_type": "stream",
          "name": "stdout",
          "text": [
            "235146\n"
          ]
        }
      ]
    },
    {
      "cell_type": "markdown",
      "source": [
        "### Задание 3. Напишите код для обучения модели\n",
        "\n",
        "**5** баллов\n",
        "\n",
        "Можно (и нужно) подглядывать в код семинара по пайторчу. Вам нужно создать модель, определить функцию потерь и оптимизатор (начнем с `SGD`). Дальше нужно обучать модель, при помощи тренировочного `Dataloader'a` и считать лосс на тренировочном и тестовом `Dataloader'ах`."
      ],
      "metadata": {
        "id": "iwGllji2M4lp"
      }
    },
    {
      "cell_type": "markdown",
      "source": [
        "Напишем функцию для рассчета `accuracy`:"
      ],
      "metadata": {
        "id": "Grv9xcybRfCX"
      }
    },
    {
      "cell_type": "code",
      "source": [
        "def get_accuracy(model, dataloader):\n",
        "    \"\"\"\n",
        "    model - обученная нейронная сеть\n",
        "    dataloader - даталоадер, на котором вы хотите посчитать accuracy\n",
        "    \"\"\"\n",
        "    correct = 0\n",
        "    total = 0\n",
        "    with torch.no_grad(): # Тензоры внутри этого блока будут иметь requires_grad=False\n",
        "        for images, labels in dataloader:\n",
        "            outputs = model(images)\n",
        "            _, predicted = torch.max(outputs.data, 1)\n",
        "            total += labels.size(0)\n",
        "            correct += (predicted == labels).sum().item()\n",
        "    accuracy = correct / total\n",
        "    \n",
        "    return accuracy"
      ],
      "metadata": {
        "id": "9D2QPFe5JdVc"
      },
      "execution_count": null,
      "outputs": []
    },
    {
      "cell_type": "markdown",
      "source": [
        "#### Основной цикл обучения\n",
        "\n",
        "Этот код можно (и зачастую нужно) выносить в отдельную функцию, но пока что можете это не делать, все по желанию)"
      ],
      "metadata": {
        "id": "D3EmoWJyTBkE"
      }
    },
    {
      "cell_type": "code",
      "source": [
        "# Создадим объект модели\n",
        "fc_net = FCNet()\n",
        "# Определим функцию потерь\n",
        "loss_function = nn.CrossEntropyLoss()\n",
        "# Создадим оптимизатор для нашей сети\n",
        "lr = 3e-4 # скорость обучения\n",
        "optimizer = torch.optim.Adam(fc_net.parameters(), lr=lr)"
      ],
      "metadata": {
        "id": "uIZKSOdgUi3e"
      },
      "execution_count": null,
      "outputs": []
    },
    {
      "cell_type": "markdown",
      "source": [
        "Напишите цикл обучения. Для начала хватит 10 эпох. Какое значение `accuracy` на тестовой выборке удалось получить?"
      ],
      "metadata": {
        "id": "uKYzXFqoX_fd"
      }
    },
    {
      "cell_type": "code",
      "source": [
        "n_epochs = 10\n",
        "loss_history = []\n",
        "\n",
        "## YOUR CODE HERE\n",
        "\n",
        "for epoch in range(n_epochs):\n",
        "    epoch_loss = 0\n",
        "    for images, labels in trainloader: \n",
        "        optimizer.zero_grad() \n",
        "        outputs = fc_net(images) \n",
        "        loss = loss_function(outputs, labels) \n",
        "        loss.backward() \n",
        "        optimizer.step() \n",
        "\n",
        "        epoch_loss += loss.item()\n",
        "\n",
        "    loss_history.append(epoch_loss/len(trainloader))\n",
        "\n",
        "    print(f\"Epoch={epoch+1} loss={loss_history[epoch]:.4f}\")"
      ],
      "metadata": {
        "id": "Ma2bshC6MxI6",
        "colab": {
          "base_uri": "https://localhost:8080/"
        },
        "outputId": "28026df4-a291-4915-c025-21722c8489f0"
      },
      "execution_count": null,
      "outputs": [
        {
          "output_type": "stream",
          "name": "stdout",
          "text": [
            "Epoch=1 loss=0.9149\n",
            "Epoch=2 loss=0.4478\n",
            "Epoch=3 loss=0.3507\n",
            "Epoch=4 loss=0.2934\n",
            "Epoch=5 loss=0.2505\n",
            "Epoch=6 loss=0.2176\n",
            "Epoch=7 loss=0.1886\n",
            "Epoch=8 loss=0.1647\n",
            "Epoch=9 loss=0.1449\n",
            "Epoch=10 loss=0.1276\n"
          ]
        }
      ]
    },
    {
      "cell_type": "code",
      "source": [
        "get_accuracy(fc_net, testloader)"
      ],
      "metadata": {
        "id": "2cB5LRbrS3BN",
        "colab": {
          "base_uri": "https://localhost:8080/"
        },
        "outputId": "9f71833d-14ba-48b3-e890-a7be7d1ca561"
      },
      "execution_count": null,
      "outputs": [
        {
          "output_type": "execute_result",
          "data": {
            "text/plain": [
              "0.8726"
            ]
          },
          "metadata": {},
          "execution_count": 11
        }
      ]
    },
    {
      "cell_type": "markdown",
      "source": [
        "### Задание 4. Изучение влияния нормализации\n",
        "\n",
        "**3** балла\n",
        "\n",
        "Вы могли заметить, что мы забыли провести нормализацию наших данных, а для нейронных сетей это может быть очень критично.\n",
        "\n",
        "Нормализуйте данные.\n",
        "\n",
        "* Подсчитайте среднее значение и стандартное отклонение интенсивности пикселей для всех тренировочных данных\n",
        "* Нормализуйте данные с использованием этих параметров (используйте трансформацию `Normalize`)\n",
        "\n",
        "\n",
        "Оцените влияние нормировки данных."
      ],
      "metadata": {
        "id": "4HTJzBM8Yk1R"
      }
    },
    {
      "cell_type": "code",
      "source": [
        "n = len(trainset)\n",
        "\n",
        "mean = 0\n",
        "for i in range(len(trainset)):\n",
        "    mean += trainset[i][0].sum()\n",
        "mean /= n * 28 * 28\n",
        "\n",
        "std = 0\n",
        "for i in range(len(trainset)):\n",
        "    std += ((trainset[i][0] - mean) ** 2).sum()\n",
        "std /= n * 28 * 28\n",
        "std **= 0.5\n",
        "\n",
        "print(mean, std)\n",
        "\n",
        "transform_with_norm = torchvision.transforms.Compose([\n",
        "                torchvision.transforms.ToTensor(),\n",
        "                torchvision.transforms.Normalize(mean, std)\n",
        "            ])\n",
        "\n",
        "trainset.transform = transform_with_norm \n",
        "testset.transform = transform_with_norm"
      ],
      "metadata": {
        "id": "FHlDaYWGR6YA",
        "colab": {
          "base_uri": "https://localhost:8080/"
        },
        "outputId": "1696aefd-b05d-41a9-ca33-bcdae976d502"
      },
      "execution_count": null,
      "outputs": [
        {
          "output_type": "stream",
          "name": "stdout",
          "text": [
            "tensor(0.1918) tensor(0.3483)\n"
          ]
        }
      ]
    },
    {
      "cell_type": "code",
      "source": [
        "fc_net = FCNet()\n",
        "loss_function = nn.CrossEntropyLoss()\n",
        "lr = 3e-4\n",
        "optimizer = torch.optim.Adam(fc_net.parameters(), lr=lr)"
      ],
      "metadata": {
        "id": "Qj93J3X_R6aa"
      },
      "execution_count": null,
      "outputs": []
    },
    {
      "cell_type": "code",
      "source": [
        "n_epochs = 10\n",
        "loss_history = []\n",
        "\n",
        "## YOUR CODE HERE\n",
        "\n",
        "for epoch in range(n_epochs):\n",
        "    epoch_loss = 0\n",
        "    for images, labels in trainloader: \n",
        "        optimizer.zero_grad() \n",
        "        outputs = fc_net(images) \n",
        "        loss = loss_function(outputs, labels) \n",
        "        loss.backward() \n",
        "        optimizer.step() \n",
        "\n",
        "        epoch_loss += loss.item()\n",
        "\n",
        "    loss_history.append(epoch_loss/len(trainloader))\n",
        "\n",
        "    print(f\"Epoch={epoch+1} loss={loss_history[epoch]:.4f}\")"
      ],
      "metadata": {
        "id": "VWZtYBCvAoWQ",
        "colab": {
          "base_uri": "https://localhost:8080/"
        },
        "outputId": "8a28572a-97f9-49b4-e9b9-f951e57549b5"
      },
      "execution_count": null,
      "outputs": [
        {
          "output_type": "stream",
          "name": "stdout",
          "text": [
            "Epoch=1 loss=0.6822\n",
            "Epoch=2 loss=0.3054\n",
            "Epoch=3 loss=0.2239\n",
            "Epoch=4 loss=0.1748\n",
            "Epoch=5 loss=0.1403\n",
            "Epoch=6 loss=0.1138\n",
            "Epoch=7 loss=0.0921\n",
            "Epoch=8 loss=0.0753\n",
            "Epoch=9 loss=0.0624\n",
            "Epoch=10 loss=0.0507\n"
          ]
        }
      ]
    },
    {
      "cell_type": "code",
      "source": [
        "get_accuracy(fc_net, testloader)"
      ],
      "metadata": {
        "id": "Gfbv9OIAAoYT",
        "colab": {
          "base_uri": "https://localhost:8080/"
        },
        "outputId": "931c7256-b452-4d93-e2a9-92c1c862d55c"
      },
      "execution_count": null,
      "outputs": [
        {
          "output_type": "execute_result",
          "data": {
            "text/plain": [
              "0.8986"
            ]
          },
          "metadata": {},
          "execution_count": 15
        }
      ]
    },
    {
      "cell_type": "markdown",
      "source": [
        "Как изменилась `accuracy` после нормализации?"
      ],
      "metadata": {
        "id": "RcIJvhWkcjlh"
      }
    },
    {
      "cell_type": "markdown",
      "source": [
        "Увеличилась на 0.02 :)"
      ],
      "metadata": {
        "id": "i0OkKTadR913"
      }
    },
    {
      "cell_type": "markdown",
      "source": [
        "### Задание 5. Изучение влияния функции активации\n",
        "\n",
        "**3** балла\n",
        "\n",
        "Исследуйте влияние функций активации на скорость обучения и точность предсказаний модели.\n",
        "\n",
        "Используйте три функции:\n",
        "\n",
        "* [Sigmoid](https://pytorch.org/docs/stable/nn.functional.html#sigmoid)\n",
        "* [GELU](https://pytorch.org/docs/stable/nn.functional.html#gelu)\n",
        "* [Tanh](https://pytorch.org/docs/stable/generated/torch.nn.Tanh.html#torch.nn.Tanh)"
      ],
      "metadata": {
        "id": "atcfzu4acxP2"
      }
    },
    {
      "cell_type": "code",
      "source": [
        "## YOUR CODE HERE\n",
        "\n",
        "activations = [[\"Sigmoid\", F.sigmoid], [\"GELU\", F.gelu], [\"Tanh\", F.tanh]]\n",
        "fc_nets = []\n",
        "optimizers = []\n",
        "loss_functions = []\n",
        "lr = 3e-4\n",
        "\n",
        "for activation in activations:\n",
        "    fc_nets.append(FCNet(activation=activation[1]))\n",
        "    optimizers.append(torch.optim.Adam(fc_nets[-1].parameters(), lr=lr))\n",
        "    loss_functions.append(nn.CrossEntropyLoss())\n"
      ],
      "metadata": {
        "id": "voX0HLT8hK92"
      },
      "execution_count": null,
      "outputs": []
    },
    {
      "cell_type": "code",
      "source": [
        "n_epochs = 10\n",
        "loss_history = []\n",
        "\n",
        "## YOUR CODE HERE\n",
        "import time\n",
        "duration = [0] * 3\n",
        "\n",
        "for epoch in range(n_epochs):\n",
        "    epoch_loss = torch.zeros(3)\n",
        "    for images, labels in trainloader:\n",
        "        for i in range(3):\n",
        "            duration[i] -= time.time()\n",
        "\n",
        "            optimizers[i].zero_grad() \n",
        "            outputs = fc_nets[i](images) \n",
        "            loss = loss_functions[i](outputs, labels) \n",
        "            loss.backward() \n",
        "            optimizers[i].step() \n",
        "\n",
        "            duration[i] += time.time()\n",
        "\n",
        "            epoch_loss[i] += loss.item()\n",
        "\n",
        "    loss_history.append(epoch_loss/len(trainloader))\n",
        "\n",
        "    print(f\"\\nEpoch={epoch+1}\")\n",
        "    for i in range(3):\n",
        "        print(activations[i][0], f\"loss={loss_history[-1][i]:.4f}\", f\"  duration={duration[i]:.4f}\")"
      ],
      "metadata": {
        "id": "GdvHSFeKa2sW",
        "colab": {
          "base_uri": "https://localhost:8080/"
        },
        "outputId": "4cebb8a9-6bd0-4ea1-c05f-8fc12d2a160f"
      },
      "execution_count": null,
      "outputs": [
        {
          "output_type": "stream",
          "name": "stdout",
          "text": [
            "\n",
            "Epoch=1\n",
            "Sigmoid loss=0.7429   duration=3.5558\n",
            "GELU loss=0.2855   duration=4.2472\n",
            "Tanh loss=0.3873   duration=4.0000\n",
            "\n",
            "Epoch=2\n",
            "Sigmoid loss=0.5377   duration=7.5157\n",
            "GELU loss=0.2077   duration=9.1251\n",
            "Tanh loss=0.2631   duration=8.5606\n",
            "\n",
            "Epoch=3\n",
            "Sigmoid loss=0.4366   duration=11.1961\n",
            "GELU loss=0.1590   duration=13.7529\n",
            "Tanh loss=0.1887   duration=12.9700\n",
            "\n",
            "Epoch=4\n",
            "Sigmoid loss=0.3675   duration=14.8370\n",
            "GELU loss=0.1241   duration=18.2441\n",
            "Tanh loss=0.1392   duration=17.2540\n",
            "\n",
            "Epoch=5\n",
            "Sigmoid loss=0.3148   duration=18.3623\n",
            "GELU loss=0.0995   duration=22.5363\n",
            "Tanh loss=0.1050   duration=21.3325\n",
            "\n",
            "Epoch=6\n",
            "Sigmoid loss=0.2730   duration=23.0752\n",
            "GELU loss=0.0799   duration=28.7847\n",
            "Tanh loss=0.0785   duration=26.9468\n",
            "\n",
            "Epoch=7\n",
            "Sigmoid loss=0.2386   duration=27.9416\n",
            "GELU loss=0.0637   duration=35.0959\n",
            "Tanh loss=0.0582   duration=32.8539\n",
            "\n",
            "Epoch=8\n",
            "Sigmoid loss=0.2101   duration=32.1138\n",
            "GELU loss=0.0505   duration=40.7593\n",
            "Tanh loss=0.0434   duration=38.0598\n",
            "\n",
            "Epoch=9\n",
            "Sigmoid loss=0.1861   duration=36.7485\n",
            "GELU loss=0.0395   duration=46.6735\n",
            "Tanh loss=0.0313   duration=43.7626\n",
            "\n",
            "Epoch=10\n",
            "Sigmoid loss=0.1656   duration=40.8638\n",
            "GELU loss=0.0300   duration=51.7192\n",
            "Tanh loss=0.0223   duration=48.5022\n"
          ]
        }
      ]
    },
    {
      "cell_type": "code",
      "source": [
        "for i in range(3):\n",
        "    print(activations[i][0], f\"accuracy={get_accuracy(fc_nets[i], testloader):.4f}\")"
      ],
      "metadata": {
        "id": "o6bY0738nRRJ",
        "outputId": "879aa70d-e12c-41c8-c1af-ec13092ecd2f",
        "colab": {
          "base_uri": "https://localhost:8080/"
        }
      },
      "execution_count": null,
      "outputs": [
        {
          "output_type": "stream",
          "name": "stdout",
          "text": [
            "Sigmoid accuracy=0.8625\n",
            "GELU accuracy=0.8983\n",
            "Tanh accuracy=0.8973\n"
          ]
        }
      ]
    },
    {
      "cell_type": "markdown",
      "source": [
        "С использованием какой функции активации удалось досчить наибольшей `accuracy`?"
      ],
      "metadata": {
        "id": "aG2Oyxy2egVV"
      }
    },
    {
      "cell_type": "markdown",
      "source": [
        "Лучший результат получился у GELU: 0.8983\n",
        "\n",
        "Быстрее всех обучилась Sigmoid: 40.8638"
      ],
      "metadata": {
        "id": "wdpOc7dQdZTr"
      }
    },
    {
      "cell_type": "markdown",
      "source": [
        "### Задание 6. Другие оптимизаторы\n",
        "\n",
        "**4** балла\n",
        "\n",
        "Исследуйте влияние оптимизаторов на скорость обучения и точность предсказаний модели.\n",
        "\n",
        "Попробуйте следующие:\n",
        "\n",
        "* [Adam](https://pytorch.org/docs/stable/generated/torch.optim.Adam.html#torch.optim.Adam)\n",
        "* [RMSprop](https://pytorch.org/docs/stable/generated/torch.optim.RMSprop.html#torch.optim.RMSprop)\n",
        "* [Adagrad](https://pytorch.org/docs/stable/generated/torch.optim.Adagrad.html#torch.optim.Adagrad)\n",
        "\n",
        "Вам нужно снова обучить 3 модели и сравнить их перформанс (функцию активации используйте ту, которая показала себя лучше всего)."
      ],
      "metadata": {
        "id": "20Ls3Bfsifqd"
      }
    },
    {
      "cell_type": "code",
      "source": [
        "## YOUR CODE HERE\n",
        "\n",
        "opts= [[\"Adam\", torch.optim.Adam], [\"RMSprop\", torch.optim.RMSprop], [\"Adagrad\", torch.optim.Adagrad]]\n",
        "fc_nets = []\n",
        "optimizers = []\n",
        "loss_functions = []\n",
        "lr = 3e-4\n",
        "\n",
        "for opt in opts:\n",
        "    fc_nets.append(FCNet(activation=F.gelu))\n",
        "    optimizers.append(opt[1](fc_nets[-1].parameters(), lr=lr))\n",
        "    loss_functions.append(nn.CrossEntropyLoss())"
      ],
      "metadata": {
        "id": "2N0ZCb8Zo-64"
      },
      "execution_count": null,
      "outputs": []
    },
    {
      "cell_type": "code",
      "source": [
        "n_epochs = 10\n",
        "loss_history = []\n",
        "\n",
        "## YOUR CODE HERE\n",
        "import time\n",
        "duration = [0] * 3\n",
        "\n",
        "for epoch in range(n_epochs):\n",
        "    epoch_loss = torch.zeros(3)\n",
        "    for images, labels in trainloader:\n",
        "        for i in range(3):\n",
        "            duration[i] -= time.time()\n",
        "\n",
        "            optimizers[i].zero_grad() \n",
        "            outputs = fc_nets[i](images) \n",
        "            loss = loss_functions[i](outputs, labels) \n",
        "            loss.backward() \n",
        "            optimizers[i].step() \n",
        "\n",
        "            duration[i] += time.time()\n",
        "\n",
        "            epoch_loss[i] += loss.item()\n",
        "\n",
        "    loss_history.append(epoch_loss/len(trainloader))\n",
        "\n",
        "    print(f\"\\nEpoch={epoch+1}\")\n",
        "    for i in range(3):\n",
        "        print(opts[i][0], f\"loss={loss_history[-1][i]:.4f}\", f\"  duration={duration[i]:.4f}\")"
      ],
      "metadata": {
        "id": "rzL2LdA-ifJh",
        "colab": {
          "base_uri": "https://localhost:8080/"
        },
        "outputId": "46867138-d58e-42f0-a7ce-0a8b977b36a4"
      },
      "execution_count": null,
      "outputs": [
        {
          "output_type": "stream",
          "name": "stdout",
          "text": [
            "\n",
            "Epoch=1\n",
            "Adam loss=0.6728   duration=4.4912\n",
            "RMSprop loss=0.4444   duration=4.6629\n",
            "Adagrad loss=1.3448   duration=4.4457\n",
            "\n",
            "Epoch=2\n",
            "Adam loss=0.2891   duration=8.2684\n",
            "RMSprop loss=0.2385   duration=8.6690\n",
            "Adagrad loss=0.8223   duration=8.4041\n",
            "\n",
            "Epoch=3\n",
            "Adam loss=0.2096   duration=12.3317\n",
            "RMSprop loss=0.1764   duration=12.8135\n",
            "Adagrad loss=0.7004   duration=12.3349\n",
            "\n",
            "Epoch=4\n",
            "Adam loss=0.1599   duration=16.0937\n",
            "RMSprop loss=0.1366   duration=16.4907\n",
            "Adagrad loss=0.6383   duration=16.0306\n",
            "\n",
            "Epoch=5\n",
            "Adam loss=0.1261   duration=20.7514\n",
            "RMSprop loss=0.1080   duration=21.5466\n",
            "Adagrad loss=0.5980   duration=20.9688\n",
            "\n",
            "Epoch=6\n",
            "Adam loss=0.1018   duration=25.0053\n",
            "RMSprop loss=0.0864   duration=25.7372\n",
            "Adagrad loss=0.5689   duration=25.1478\n",
            "\n",
            "Epoch=7\n",
            "Adam loss=0.0819   duration=29.2808\n",
            "RMSprop loss=0.0684   duration=30.2036\n",
            "Adagrad loss=0.5460   duration=29.4566\n",
            "\n",
            "Epoch=8\n",
            "Adam loss=0.0660   duration=34.2951\n",
            "RMSprop loss=0.0545   duration=35.7005\n",
            "Adagrad loss=0.5270   duration=34.7512\n",
            "\n",
            "Epoch=9\n",
            "Adam loss=0.0521   duration=38.7071\n",
            "RMSprop loss=0.0427   duration=40.3388\n",
            "Adagrad loss=0.5117   duration=39.1283\n",
            "\n",
            "Epoch=10\n",
            "Adam loss=0.0410   duration=43.3461\n",
            "RMSprop loss=0.0335   duration=45.2700\n",
            "Adagrad loss=0.4982   duration=44.0872\n"
          ]
        }
      ]
    },
    {
      "cell_type": "code",
      "source": [
        "for i in range(3):\n",
        "    print(opts[i][0], f\"accuracy={get_accuracy(fc_nets[i], testloader):.4f}\")"
      ],
      "metadata": {
        "id": "VpOmIYZwpsQT",
        "outputId": "4d60a3df-f0cb-4e90-f00f-3baa545edc4b",
        "colab": {
          "base_uri": "https://localhost:8080/"
        }
      },
      "execution_count": null,
      "outputs": [
        {
          "output_type": "stream",
          "name": "stdout",
          "text": [
            "Adam accuracy=0.9013\n",
            "RMSprop accuracy=0.9004\n",
            "Adagrad accuracy=0.7208\n"
          ]
        }
      ]
    },
    {
      "cell_type": "markdown",
      "source": [
        "Лучший результат у Adam: 0.9013\n",
        "\n",
        "Быстрее всех обучился Adam: 43.3461"
      ],
      "metadata": {
        "id": "4_grMBi0q8Vj"
      }
    },
    {
      "cell_type": "markdown",
      "source": [
        "### Задание 7. Реализация ReLU\n",
        "\n",
        "**4** балла\n",
        "\n",
        "Самостоятельно реализуйте функцию активации ReLU.\n",
        "Замените в уже обученной модели функцию активации на вашу. Убедитесь что ничего не изменилась."
      ],
      "metadata": {
        "id": "eHA48PsperxS"
      }
    },
    {
      "cell_type": "code",
      "source": [
        "class CustomReLU(nn.Module):     \n",
        "    def __init__(self):\n",
        "        super().__init__()\n",
        "\n",
        "    def forward(self, x):\n",
        "        # YOUR CODE HERE\n",
        "        # если элемент x < 0, то 0, если >= 0, то x\n",
        "        x = max(x, 0)\n",
        "        return x"
      ],
      "metadata": {
        "id": "63uTkUp-a2xr"
      },
      "execution_count": null,
      "outputs": []
    },
    {
      "cell_type": "markdown",
      "source": [
        "Заново обучите модель и проверьте правильность реализации `CustomReLU`."
      ],
      "metadata": {
        "id": "xsKzxa33fhbN"
      }
    },
    {
      "cell_type": "code",
      "source": [],
      "metadata": {
        "id": "ePP55RBeecYh"
      },
      "execution_count": null,
      "outputs": []
    },
    {
      "cell_type": "markdown",
      "source": [
        "### Задание 8. Генерация картинок\n",
        "\n",
        "**3** балла\n",
        "\n",
        "Так как вы снова работаете в командах, то придумайте 3 предложения и сгенерируйте при помощи них 3 картинки, используя телеграм бота [ruDALLE](https://t.me/sber_rudalle_xl_bot). Прикрепите сюда ваши картины."
      ],
      "metadata": {
        "id": "vWBG1mMwgN17"
      }
    },
    {
      "cell_type": "code",
      "source": [],
      "metadata": {
        "id": "hlqgll9qecdZ"
      },
      "execution_count": null,
      "outputs": []
    }
  ]
}