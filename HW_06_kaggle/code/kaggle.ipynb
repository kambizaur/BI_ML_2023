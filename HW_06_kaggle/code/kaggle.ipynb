{
 "cells": [
  {
   "cell_type": "markdown",
   "id": "b12ac1b8",
   "metadata": {},
   "source": [
    "# <center> Предсказание победителя в Dota 2\n",
    "<center>"
   ]
  },
  {
   "cell_type": "markdown",
   "id": "4f1bbd32",
   "metadata": {
    "papermill": {
     "duration": 0.045141,
     "end_time": "2022-02-13T23:28:22.688388",
     "exception": false,
     "start_time": "2022-02-13T23:28:22.643247",
     "status": "completed"
    },
    "tags": []
   },
   "source": [
    "### Импорты"
   ]
  },
  {
   "cell_type": "code",
   "execution_count": 1,
   "id": "34ecba2c",
   "metadata": {
    "papermill": {
     "duration": 1.526998,
     "end_time": "2022-02-13T23:28:24.258607",
     "exception": false,
     "start_time": "2022-02-13T23:28:22.731609",
     "status": "completed"
    },
    "tags": []
   },
   "outputs": [],
   "source": [
    "import os\n",
    "import json\n",
    "import pandas as pd\n",
    "import numpy as np\n",
    "import datetime\n",
    "import warnings\n",
    "import seaborn as sns\n",
    "import matplotlib.pyplot as plt\n",
    "import random\n",
    "import math\n",
    "import xgboost\n",
    "import lightgbm\n",
    "import catboost\n",
    "from sklearn.model_selection import train_test_split, ShuffleSplit, cross_val_score\n",
    "from sklearn.ensemble import (RandomForestClassifier,\n",
    "                              ExtraTreesClassifier)\n",
    "from sklearn.metrics import roc_auc_score, accuracy_score\n",
    "from matplotlib.colors import ListedColormap\n",
    "from scipy.stats import pearsonr\n",
    "from itertools import combinations\n",
    "from sklearn.base import BaseEstimator\n",
    "from sklearn import datasets\n",
    "from sklearn.model_selection import train_test_split\n",
    "from sklearn.tree import (DecisionTreeRegressor,\n",
    "                          DecisionTreeClassifier)\n",
    "from sklearn.neighbors import KNeighborsClassifier\n",
    "from sklearn.linear_model import LogisticRegression\n",
    "from sklearn.naive_bayes import GaussianNB\n",
    "\n",
    "%matplotlib inline"
   ]
  },
  {
   "cell_type": "code",
   "execution_count": 2,
   "id": "8c7623bb",
   "metadata": {
    "papermill": {
     "duration": 0.051811,
     "end_time": "2022-02-13T23:28:24.354647",
     "exception": false,
     "start_time": "2022-02-13T23:28:24.302836",
     "status": "completed"
    },
    "tags": []
   },
   "outputs": [],
   "source": [
    "SEED = 10801\n",
    "sns.set_style(style=\"whitegrid\")\n",
    "plt.rcParams[\"figure.figsize\"] = 12, 8\n",
    "warnings.filterwarnings(\"ignore\")"
   ]
  },
  {
   "cell_type": "markdown",
   "id": "0be93999",
   "metadata": {
    "papermill": {
     "duration": 0.042685,
     "end_time": "2022-02-13T23:28:24.527617",
     "exception": false,
     "start_time": "2022-02-13T23:28:24.484932",
     "status": "completed"
    },
    "tags": []
   },
   "source": [
    "## <left>Базовые признаки"
   ]
  },
  {
   "cell_type": "code",
   "execution_count": 3,
   "id": "491274e4",
   "metadata": {
    "papermill": {
     "duration": 1.383765,
     "end_time": "2022-02-13T23:28:25.955912",
     "exception": false,
     "start_time": "2022-02-13T23:28:24.572147",
     "status": "completed"
    },
    "tags": []
   },
   "outputs": [],
   "source": [
    "PATH_TO_DATA = \"../data_folder\"\n",
    "\n",
    "df_train_features = pd.read_csv(os.path.join(PATH_TO_DATA, \n",
    "                                             \"train_data.csv\"), \n",
    "                                    index_col=\"match_id_hash\")\n",
    "df_train_targets = pd.read_csv(os.path.join(PATH_TO_DATA, \n",
    "                                            \"train_targets.csv\"), \n",
    "                                   index_col=\"match_id_hash\")"
   ]
  },
  {
   "cell_type": "markdown",
   "id": "0991465b-40a7-4a9c-90c7-bf183782a743",
   "metadata": {
    "papermill": {
     "duration": 0.059594,
     "end_time": "2022-02-13T23:28:26.454584",
     "exception": false,
     "start_time": "2022-02-13T23:28:26.394990",
     "status": "completed"
    },
    "tags": []
   },
   "source": [
    "## <left>Дополнительные признаки"
   ]
  },
  {
   "cell_type": "markdown",
   "id": "d16da83f-2f03-4cf0-bb41-c82ec247db26",
   "metadata": {},
   "source": [
    "Быстрое чтение"
   ]
  },
  {
   "cell_type": "code",
   "execution_count": 4,
   "id": "a7baf385-66d2-461e-81e1-510bec684f63",
   "metadata": {},
   "outputs": [],
   "source": [
    "try:\n",
    "    import ujson as json\n",
    "except ModuleNotFoundError:\n",
    "    import json\n",
    "    print (\"Подумайте об установке ujson, чтобы работать с JSON объектами быстрее\")\n",
    "    \n",
    "try:\n",
    "    from tqdm.notebook import tqdm\n",
    "except ModuleNotFoundError:\n",
    "    tqdm_notebook = lambda x: x\n",
    "    print (\"Подумайте об установке tqdm, чтобы следить за прогрессом\")\n",
    "\n",
    "    \n",
    "def read_matches(matches_file, total_matches, n_matches_to_read=None):\n",
    "    \"\"\"\n",
    "    Аргуент\n",
    "    -------\n",
    "    matches_file: JSON файл с сырыми данными\n",
    "    \n",
    "    Результат\n",
    "    ---------\n",
    "    Возвращает записи о каждом матче\n",
    "    \"\"\"\n",
    "    \n",
    "    if n_matches_to_read is None:\n",
    "        n_matches_to_read = total_matches\n",
    "        \n",
    "    c = 0\n",
    "    with open(matches_file) as fin:\n",
    "        for line in tqdm(fin, total=total_matches):\n",
    "            if c >= n_matches_to_read:\n",
    "                break\n",
    "            else:\n",
    "                c += 1\n",
    "                yield json.loads(line)"
   ]
  },
  {
   "cell_type": "markdown",
   "id": "9309ee18-214f-4518-835b-5f0791bf68d8",
   "metadata": {},
   "source": [
    "Добавление новых признаков"
   ]
  },
  {
   "cell_type": "code",
   "execution_count": 5,
   "id": "9427d3df-8f4a-49fd-8a91-7b20b1314f54",
   "metadata": {},
   "outputs": [],
   "source": [
    "def add_new_features(df_features, matches_file, total_matches):\n",
    "    \"\"\"\n",
    "    Аргуенты\n",
    "    -------\n",
    "    df_features: таблица с данными\n",
    "    matches_file: JSON файл с сырыми данными\n",
    "    \n",
    "    Результат\n",
    "    ---------\n",
    "    Добавляет новые признаки в таблицу\n",
    "    \"\"\"\n",
    "    \n",
    "    for match in read_matches(matches_file, total_matches=total_matches, n_matches_to_read=None):\n",
    "        match_id_hash = match['match_id_hash']\n",
    "\n",
    "        # Посчитаем количество разрушенных вышек обеими командами\n",
    "        radiant_tower_kills = 0\n",
    "        dire_tower_kills = 0\n",
    "        for objective in match[\"objectives\"]:\n",
    "            if objective[\"type\"] == \"CHAT_MESSAGE_TOWER_KILL\":\n",
    "                if objective[\"team\"] == 2:\n",
    "                    radiant_tower_kills += 1\n",
    "                if objective[\"team\"] == 3:\n",
    "                    dire_tower_kills += 1\n",
    "\n",
    "        df_features.loc[match_id_hash, \"radiant_tower_kills\"] = radiant_tower_kills\n",
    "        df_features.loc[match_id_hash, \"dire_tower_kills\"] = dire_tower_kills\n",
    "        df_features.loc[match_id_hash, \"diff_tower_kills\"] = radiant_tower_kills - dire_tower_kills\n",
    "        \n",
    "        # ... (/¯◡ ‿ ◡)/¯☆*:・ﾟ добавляем новые признаки ...\n",
    "        radiant_xp = 0\n",
    "        dire_xp = 0\n",
    "        \n",
    "        radiant_gold = 0\n",
    "        dire_gold = 0\n",
    "        \n",
    "        radiant_obs = 0\n",
    "        dire_obs = 0\n",
    "        \n",
    "        radiant_runes = 0\n",
    "        dire_runes = 0\n",
    "        \n",
    "        radiant_roshans = 0\n",
    "        dire_roshans = 0\n",
    "        \n",
    "        radiant_abilities = 0\n",
    "        dire_abilities = 0\n",
    "        \n",
    "        radiant_kda = 0\n",
    "        dire_kda = 0\n",
    "        \n",
    "        kills = []\n",
    "        \n",
    "        radiant_pred = 0\n",
    "        dire_pred = 0\n",
    "        \n",
    "        radiant_team = 0\n",
    "        dire_team = 0\n",
    "        \n",
    "        radiant_xp_gold = 0\n",
    "        dire_xp_gold = 0\n",
    "        \n",
    "        radiant_inv = 0\n",
    "        radiant_purchase_len = 0\n",
    "        radiant_purchase_sum = 0\n",
    "        \n",
    "        dire_inv = 0\n",
    "        dire_purchase_len = 0\n",
    "        dire_purchase_sum = 0\n",
    "        \n",
    "        \n",
    "        \n",
    "        for i in range(5):\n",
    "            player_radiant = match[\"players\"][i]\n",
    "            radiant_xp += player_radiant[\"xp\"]\n",
    "            radiant_gold += player_radiant[\"gold\"]\n",
    "            radiant_xp_gold += player_radiant[\"xp\"] * player_radiant[\"gold\"]\n",
    "            radiant_obs += player_radiant[\"observers_placed\"]\n",
    "            radiant_runes += player_radiant[\"rune_pickups\"]\n",
    "            radiant_roshans += player_radiant[\"roshans_killed\"]\n",
    "            radiant_abilities += len(player_radiant[\"ability_upgrades\"])\n",
    "            radiant_kda += (player_radiant[\"kills\"] + player_radiant[\"assists\"]) / max(1, player_radiant[\"deaths\"])\n",
    "            radiant_pred += player_radiant[\"pred_vict\"]\n",
    "            radiant_team += player_radiant[\"teamfight_participation\"]\n",
    "            radiant_inv += len(player_radiant[\"hero_inventory\"]) + len(player_radiant[\"hero_stash\"])\n",
    "            radiant_purchase_len += len(player_radiant[\"purchase\"])\n",
    "            radiant_purchase_sum += sum(player_radiant[\"purchase\"].values())\n",
    "            for kill in player_radiant[\"kills_log\"]:\n",
    "                kills.append((kill[\"time\"], 1))\n",
    "            \n",
    "            player_dire = match[\"players\"][5 + i]\n",
    "            dire_xp += player_dire[\"xp\"]\n",
    "            dire_gold += player_dire[\"gold\"]\n",
    "            dire_xp_gold += player_dire[\"xp\"] * player_dire[\"gold\"]\n",
    "            dire_obs += player_dire[\"observers_placed\"]\n",
    "            dire_runes += player_dire[\"rune_pickups\"]\n",
    "            dire_roshans += player_dire[\"roshans_killed\"]\n",
    "            dire_abilities += len(player_dire[\"ability_upgrades\"])\n",
    "            dire_kda += (player_dire[\"kills\"] + player_dire[\"assists\"]) / max(1, player_dire[\"deaths\"])\n",
    "            dire_pred += player_dire[\"pred_vict\"]\n",
    "            dire_team += player_dire[\"teamfight_participation\"]\n",
    "            dire_inv += len(player_dire[\"hero_inventory\"]) + len(player_dire[\"hero_stash\"])\n",
    "            dire_purchase_len += len(player_dire[\"purchase\"])\n",
    "            dire_purchase_sum += sum(player_dire[\"purchase\"].values())\n",
    "            for kill in player_dire[\"kills_log\"]:\n",
    "                kills.append((kill[\"time\"], -1))\n",
    "        \n",
    "        game_time = max(1, match[\"game_time\"] / 60)\n",
    "        df_features.loc[match_id_hash, \"radiant_xp\"] = radiant_xp\n",
    "        df_features.loc[match_id_hash, \"radiant_xp_d\"] = radiant_xp / game_time\n",
    "        df_features.loc[match_id_hash, \"dire_xp\"] = dire_xp \n",
    "        df_features.loc[match_id_hash, \"dire_xp_d\"] = dire_xp / game_time\n",
    "        df_features.loc[match_id_hash, \"diff_xp\"] = radiant_xp - dire_xp\n",
    "        \n",
    "        df_features.loc[match_id_hash, \"radiant_gold_d\"] = radiant_gold / game_time\n",
    "        df_features.loc[match_id_hash, \"dire_gold_d\"] = dire_gold / game_time\n",
    "        df_features.loc[match_id_hash, \"radiant_gold\"] = radiant_gold \n",
    "        df_features.loc[match_id_hash, \"dire_gold\"] = dire_gold \n",
    "        df_features.loc[match_id_hash, \"diff_gold\"] = radiant_gold - dire_gold\n",
    "\n",
    "        df_features.loc[match_id_hash, \"radiant_xp_gold\"] = radiant_xp_gold \n",
    "        df_features.loc[match_id_hash, \"dire_xp_gold\"] = dire_xp_gold \n",
    "        df_features.loc[match_id_hash, \"radiant_xp_gold_d\"] = radiant_xp_gold / game_time\n",
    "        df_features.loc[match_id_hash, \"dire_xp_gold_d\"] = dire_xp_gold / game_time\n",
    "        df_features.loc[match_id_hash, \"diff_xp_gold\"] = radiant_obs - dire_obs\n",
    "        \n",
    "        df_features.loc[match_id_hash, \"radiant_obs\"] = radiant_obs\n",
    "        df_features.loc[match_id_hash, \"dire_obs\"] = dire_obs\n",
    "        df_features.loc[match_id_hash, \"radiant_obs_d\"] = radiant_obs / game_time\n",
    "        df_features.loc[match_id_hash, \"dire_obs_d\"] = dire_obs / game_time\n",
    "        df_features.loc[match_id_hash, \"diff_obs\"] = radiant_obs - dire_obs\n",
    "        \n",
    "        df_features.loc[match_id_hash, \"radiant_runes\"] = radiant_runes \n",
    "        df_features.loc[match_id_hash, \"dire_runes\"] = dire_runes \n",
    "        df_features.loc[match_id_hash, \"radiant_runes_d\"] = radiant_runes / game_time\n",
    "        df_features.loc[match_id_hash, \"dire_runes_d\"] = dire_runes / game_time\n",
    "        df_features.loc[match_id_hash, \"diff_runes\"] = radiant_runes - dire_runes\n",
    "\n",
    "        df_features.loc[match_id_hash, \"radiant_roshans\"] = radiant_roshans\n",
    "        df_features.loc[match_id_hash, \"dire_roshans\"] = dire_roshans\n",
    "        df_features.loc[match_id_hash, \"diff_roshans\"] = radiant_roshans - dire_roshans\n",
    "\n",
    "        df_features.loc[match_id_hash, \"radiant_abilities_d\"] = radiant_abilities / game_time\n",
    "        df_features.loc[match_id_hash, \"dire_abilities_d\"] = dire_abilities / game_time\n",
    "        df_features.loc[match_id_hash, \"radiant_abilities\"] = radiant_abilities\n",
    "        df_features.loc[match_id_hash, \"dire_abilities\"] = dire_abilities\n",
    "        df_features.loc[match_id_hash, \"diff_abilities\"] = radiant_abilities - dire_abilities\n",
    "        \n",
    "        df_features.loc[match_id_hash, \"radiant_kda_d\"] = radiant_kda / game_time\n",
    "        df_features.loc[match_id_hash, \"dire_kda_d\"] = dire_kda / game_time\n",
    "        df_features.loc[match_id_hash, \"radiant_kda\"] = radiant_kda \n",
    "        df_features.loc[match_id_hash, \"dire_kda\"] = dire_kda\n",
    "        df_features.loc[match_id_hash, \"diff_kda\"] = radiant_kda - dire_kda\n",
    "        \n",
    "        df_features.loc[match_id_hash, \"radiant_pred\"] = radiant_pred\n",
    "        df_features.loc[match_id_hash, \"dire_pred\"] = dire_pred\n",
    "        df_features.loc[match_id_hash, \"diff_pred\"] = radiant_pred - dire_pred\n",
    "        \n",
    "        df_features.loc[match_id_hash, \"radiant_team\"] = radiant_team \n",
    "        df_features.loc[match_id_hash, \"dire_team\"] = dire_team\n",
    "        df_features.loc[match_id_hash, \"diff_team\"] = radiant_team - dire_team\n",
    "\n",
    "        df_features.loc[match_id_hash, \"radiant_inv\"] = radiant_inv\n",
    "        df_features.loc[match_id_hash, \"dire_inv\"] = dire_inv\n",
    "        df_features.loc[match_id_hash, \"radiant_inv_d\"] = radiant_inv / game_time\n",
    "        df_features.loc[match_id_hash, \"dire_inv_d\"] = dire_inv / game_time\n",
    "        df_features.loc[match_id_hash, \"diff_inv\"] = radiant_inv - dire_inv\n",
    "\n",
    "        df_features.loc[match_id_hash, \"radiant_purchase_len\"] = radiant_purchase_len\n",
    "        df_features.loc[match_id_hash, \"dire_purchase_len\"] = dire_purchase_len \n",
    "        df_features.loc[match_id_hash, \"radiant_purchase_len_d\"] = radiant_purchase_len / game_time\n",
    "        df_features.loc[match_id_hash, \"dire_purchase_len_d\"] = dire_purchase_len / game_time\n",
    "        df_features.loc[match_id_hash, \"diff_purchase_len\"] = radiant_purchase_len - dire_purchase_len\n",
    "\n",
    "        df_features.loc[match_id_hash, \"radiant_purchase_sum\"] = radiant_purchase_sum\n",
    "        df_features.loc[match_id_hash, \"dire_purchase_sum\"] = dire_purchase_sum \n",
    "        df_features.loc[match_id_hash, \"radiant_purchase_sum_d\"] = radiant_purchase_sum / game_time\n",
    "        df_features.loc[match_id_hash, \"dire_purchase_sum_d\"] = dire_purchase_sum / game_time\n",
    "        df_features.loc[match_id_hash, \"diff_purchase_sum\"] = radiant_purchase_sum - dire_purchase_sum\n",
    "        \n",
    "        \n",
    "        \n",
    "        kills.sort(key=lambda x:x[0], reverse=True)\n",
    "        last_ten_kills = 0\n",
    "        for i in range(min(10, len(kills))):\n",
    "            last_ten_kills += kills[i][1]\n",
    "            \n",
    "        df_features.loc[match_id_hash, \"last_ten_kills\"] = last_ten_kills "
   ]
  },
  {
   "cell_type": "markdown",
   "id": "0139cbf5-85c8-4935-ab7d-cf5c4977a3b0",
   "metadata": {},
   "source": [
    "Самые простые, но эффективные фичи — gold/min и xp/min.\n",
    "Самая интересная из фичей — последние десять убийств. За каждое убийство от radiant +1, за каждое убийство от dire -1."
   ]
  },
  {
   "cell_type": "code",
   "execution_count": 6,
   "id": "4b1238ed-5dad-4922-b654-74f295839917",
   "metadata": {},
   "outputs": [
    {
     "data": {
      "application/vnd.jupyter.widget-view+json": {
       "model_id": "a2e2a15a43944a79a9a81ddd1bdac8fc",
       "version_major": 2,
       "version_minor": 0
      },
      "text/plain": [
       "  0%|          | 0/31698 [00:00<?, ?it/s]"
      ]
     },
     "metadata": {},
     "output_type": "display_data"
    }
   ],
   "source": [
    "# Скопируем таблицу с признаками\n",
    "df_train_features_extended = df_train_features.copy()\n",
    "\n",
    "# Добавим новые\n",
    "add_new_features(df_train_features_extended, \n",
    "                 os.path.join(PATH_TO_DATA, \n",
    "                              \"train_raw_data.jsonl\"),\n",
    "                total_matches=31698)"
   ]
  },
  {
   "cell_type": "markdown",
   "id": "c2dffd78",
   "metadata": {
    "papermill": {
     "duration": 0.046788,
     "end_time": "2022-02-13T23:28:26.547845",
     "exception": false,
     "start_time": "2022-02-13T23:28:26.501057",
     "status": "completed"
    },
    "tags": []
   },
   "source": [
    "## <left>Сравнение моделей"
   ]
  },
  {
   "cell_type": "code",
   "execution_count": 7,
   "id": "92571853",
   "metadata": {
    "papermill": {
     "duration": 0.078234,
     "end_time": "2022-02-13T23:28:26.672769",
     "exception": false,
     "start_time": "2022-02-13T23:28:26.594535",
     "status": "completed"
    },
    "tags": []
   },
   "outputs": [],
   "source": [
    "X = df_train_features_extended.values\n",
    "y = df_train_targets[\"radiant_win\"].values\n",
    "\n",
    "X_train, X_valid, y_train, y_valid = train_test_split(X, y, \n",
    "                                                      test_size=0.3, \n",
    "                                                      random_state=SEED)"
   ]
  },
  {
   "cell_type": "code",
   "execution_count": 8,
   "id": "56f917ec-ce8b-4047-bdc0-e7271cc70abb",
   "metadata": {},
   "outputs": [],
   "source": [
    "dt = DecisionTreeClassifier(random_state=SEED, max_depth=7, min_samples_leaf=100)\n",
    "rf = RandomForestClassifier(n_estimators=300, max_depth=7, random_state=SEED)\n",
    "etc = ExtraTreesClassifier(random_state=SEED)\n",
    "knn = KNeighborsClassifier(n_neighbors=400, weights=\"distance\")\n",
    "cat = catboost.CatBoostClassifier(verbose=0, random_seed=SEED)\n",
    "lgbm = lightgbm.LGBMClassifier(random_state=SEED)\n",
    "lgbm_rf = lightgbm.LGBMClassifier(boosting_type=\"rf\", bagging_freq=1, bagging_fraction=0.7, random_state=SEED)\n",
    "xgb = xgboost.XGBClassifier(random_state=SEED)\n",
    "xgb_rf = xgboost.XGBRFClassifier(random_state=SEED)\n",
    "lr = LogisticRegression(solver='liblinear', max_iter=10000)\n",
    "nb = GaussianNB()\n",
    "\n",
    "models = [(\"DT\", dt), (\"RF\", rf), \n",
    "          (\"ETC\", etc), (\"KNN\", knn), \n",
    "          (\"CAT\", cat), (\"LGBM\", lgbm), \n",
    "          (\"LGBM_RF\", lgbm_rf), (\"XGB\", xgb), \n",
    "          (\"XGB_RF\", xgb_rf), (\"LR\", lr), (\"NB\", nb)]"
   ]
  },
  {
   "cell_type": "code",
   "execution_count": 9,
   "id": "75ad2098",
   "metadata": {},
   "outputs": [
    {
     "name": "stdout",
     "output_type": "stream",
     "text": [
      "ROC-AUC for DT: 0.7942719947433088\n",
      "ROC-AUC for RF: 0.8121770226960907\n",
      "ROC-AUC for ETC: 0.8052292298429343\n",
      "ROC-AUC for KNN: 0.8023718619423147\n",
      "ROC-AUC for CAT: 0.8138181421130295\n",
      "ROC-AUC for LGBM: 0.8145279604101894\n",
      "[LightGBM] [Warning] bagging_fraction is set=0.7, subsample=1.0 will be ignored. Current value: bagging_fraction=0.7\n",
      "[LightGBM] [Warning] bagging_freq is set=1, subsample_freq=0 will be ignored. Current value: bagging_freq=1\n",
      "ROC-AUC for LGBM_RF: 0.8085944692980637\n",
      "ROC-AUC for XGB: 0.7991743311963833\n",
      "ROC-AUC for XGB_RF: 0.8108861557003844\n",
      "ROC-AUC for LR: 0.7992001427708255\n",
      "ROC-AUC for NB: 0.7125847923525361\n"
     ]
    }
   ],
   "source": [
    "for model in models: \n",
    "    model[1].fit(X_train, y_train)\n",
    "    y_pred = model[1].predict_proba(X_valid)[:, 1]\n",
    "    valid_score = roc_auc_score(y_valid, y_pred)\n",
    "    print(f\"ROC-AUC for {model[0]}:\", valid_score)"
   ]
  },
  {
   "cell_type": "markdown",
   "id": "a320a7e8-132b-48ba-85c1-997e7451d639",
   "metadata": {},
   "source": [
    "**Лучшие результаты у RF, CAT и LGBM.**"
   ]
  },
  {
   "cell_type": "markdown",
   "id": "c812aec9",
   "metadata": {
    "papermill": {
     "duration": 0.046013,
     "end_time": "2022-02-13T23:28:36.970038",
     "exception": false,
     "start_time": "2022-02-13T23:28:36.924025",
     "status": "completed"
    },
    "tags": []
   },
   "source": [
    "## <left>Алгоритм посылки"
   ]
  },
  {
   "cell_type": "code",
   "execution_count": 10,
   "id": "0643bbc3-f40e-4a62-8981-9edaad256b79",
   "metadata": {},
   "outputs": [
    {
     "data": {
      "application/vnd.jupyter.widget-view+json": {
       "model_id": "130e5ab496d94e699a74414a227dd95d",
       "version_major": 2,
       "version_minor": 0
      },
      "text/plain": [
       "  0%|          | 0/7977 [00:00<?, ?it/s]"
      ]
     },
     "metadata": {},
     "output_type": "display_data"
    }
   ],
   "source": [
    "df_test_features = pd.read_csv(os.path.join(PATH_TO_DATA, \"test_data.csv\"), \n",
    "                                   index_col=\"match_id_hash\")\n",
    "\n",
    "#Добавим новые признаки\n",
    "add_new_features(df_test_features, \n",
    "                 os.path.join(PATH_TO_DATA, \n",
    "                              \"test_raw_data.jsonl\"), \n",
    "                 total_matches=7977)"
   ]
  },
  {
   "cell_type": "code",
   "execution_count": 11,
   "id": "ebb17975-7688-4419-a1ae-801c10b292e9",
   "metadata": {},
   "outputs": [],
   "source": [
    "model = catboost.CatBoostClassifier(verbose=0, random_seed=SEED) # выберем модель"
   ]
  },
  {
   "cell_type": "code",
   "execution_count": 12,
   "id": "ae7e7df9",
   "metadata": {
    "papermill": {
     "duration": 0.573434,
     "end_time": "2022-02-13T23:28:37.589831",
     "exception": false,
     "start_time": "2022-02-13T23:28:37.016397",
     "status": "completed"
    },
    "tags": []
   },
   "outputs": [],
   "source": [
    "model.fit(X, y)\n",
    "X_test = df_test_features.values\n",
    "y_test_pred = model.predict_proba(X_test)[:, 1]\n",
    "\n",
    "df_submission = pd.DataFrame({\"radiant_win_prob\": y_test_pred}, \n",
    "                                 index=df_test_features.index)\n"
   ]
  },
  {
   "cell_type": "code",
   "execution_count": 13,
   "id": "7ef5495a",
   "metadata": {
    "papermill": {
     "duration": 0.09114,
     "end_time": "2022-02-13T23:28:37.732839",
     "exception": false,
     "start_time": "2022-02-13T23:28:37.641699",
     "status": "completed"
    },
    "tags": []
   },
   "outputs": [
    {
     "name": "stdout",
     "output_type": "stream",
     "text": [
      "Файл посылки сохранен, как: ../data_folder/submission_2023-04-14_11-11-28.csv\n"
     ]
    }
   ],
   "source": [
    "submission_filename = \"../data_folder/submission_{}.csv\".format(\n",
    "    datetime.datetime.now().strftime(\"%Y-%m-%d_%H-%M-%S\"))\n",
    "df_submission.to_csv(submission_filename)\n",
    "print(\"Файл посылки сохранен, как: {}\".format(submission_filename))"
   ]
  }
 ],
 "metadata": {
  "kernelspec": {
   "display_name": "Python 3 (ipykernel)",
   "language": "python",
   "name": "python3"
  },
  "language_info": {
   "codemirror_mode": {
    "name": "ipython",
    "version": 3
   },
   "file_extension": ".py",
   "mimetype": "text/x-python",
   "name": "python",
   "nbconvert_exporter": "python",
   "pygments_lexer": "ipython3",
   "version": "3.8.10"
  },
  "papermill": {
   "default_parameters": {},
   "duration": 284.624138,
   "end_time": "2022-02-13T23:32:56.553845",
   "environment_variables": {},
   "exception": null,
   "input_path": "__notebook__.ipynb",
   "output_path": "__notebook__.ipynb",
   "parameters": {},
   "start_time": "2022-02-13T23:28:11.929707",
   "version": "2.3.3"
  },
  "widgets": {
   "application/vnd.jupyter.widget-state+json": {
    "state": {
     "0d846e978a8143a2ba494b58420ed067": {
      "model_module": "@jupyter-widgets/controls",
      "model_module_version": "1.5.0",
      "model_name": "DescriptionStyleModel",
      "state": {
       "_model_module": "@jupyter-widgets/controls",
       "_model_module_version": "1.5.0",
       "_model_name": "DescriptionStyleModel",
       "_view_count": null,
       "_view_module": "@jupyter-widgets/base",
       "_view_module_version": "1.2.0",
       "_view_name": "StyleView",
       "description_width": ""
      }
     },
     "0f8b8404bb734f6db3a2c56c3c7ddc6e": {
      "model_module": "@jupyter-widgets/controls",
      "model_module_version": "1.5.0",
      "model_name": "HTMLModel",
      "state": {
       "_dom_classes": [],
       "_model_module": "@jupyter-widgets/controls",
       "_model_module_version": "1.5.0",
       "_model_name": "HTMLModel",
       "_view_count": null,
       "_view_module": "@jupyter-widgets/controls",
       "_view_module_version": "1.5.0",
       "_view_name": "HTMLView",
       "description": "",
       "description_tooltip": null,
       "layout": "IPY_MODEL_59ddf819389045a094a711175442dbbe",
       "placeholder": "​",
       "style": "IPY_MODEL_b3c47a606fc044ddb919678e9db33628",
       "value": " 31698/31698 [01:40&lt;00:00, 330.36it/s]"
      }
     },
     "3a6bb37584384e4383e29e115a610a9c": {
      "model_module": "@jupyter-widgets/controls",
      "model_module_version": "1.5.0",
      "model_name": "FloatProgressModel",
      "state": {
       "_dom_classes": [],
       "_model_module": "@jupyter-widgets/controls",
       "_model_module_version": "1.5.0",
       "_model_name": "FloatProgressModel",
       "_view_count": null,
       "_view_module": "@jupyter-widgets/controls",
       "_view_module_version": "1.5.0",
       "_view_name": "ProgressView",
       "bar_style": "success",
       "description": "",
       "description_tooltip": null,
       "layout": "IPY_MODEL_bb3a69bae1bf4f5f9967c6a0650ad8a7",
       "max": 31698,
       "min": 0,
       "orientation": "horizontal",
       "style": "IPY_MODEL_fdeafc39a9f24ec592cf3b625746cc77",
       "value": 31698
      }
     },
     "59ddf819389045a094a711175442dbbe": {
      "model_module": "@jupyter-widgets/base",
      "model_module_version": "1.2.0",
      "model_name": "LayoutModel",
      "state": {
       "_model_module": "@jupyter-widgets/base",
       "_model_module_version": "1.2.0",
       "_model_name": "LayoutModel",
       "_view_count": null,
       "_view_module": "@jupyter-widgets/base",
       "_view_module_version": "1.2.0",
       "_view_name": "LayoutView",
       "align_content": null,
       "align_items": null,
       "align_self": null,
       "border": null,
       "bottom": null,
       "display": null,
       "flex": null,
       "flex_flow": null,
       "grid_area": null,
       "grid_auto_columns": null,
       "grid_auto_flow": null,
       "grid_auto_rows": null,
       "grid_column": null,
       "grid_gap": null,
       "grid_row": null,
       "grid_template_areas": null,
       "grid_template_columns": null,
       "grid_template_rows": null,
       "height": null,
       "justify_content": null,
       "justify_items": null,
       "left": null,
       "margin": null,
       "max_height": null,
       "max_width": null,
       "min_height": null,
       "min_width": null,
       "object_fit": null,
       "object_position": null,
       "order": null,
       "overflow": null,
       "overflow_x": null,
       "overflow_y": null,
       "padding": null,
       "right": null,
       "top": null,
       "visibility": null,
       "width": null
      }
     },
     "87bfa925a1994dd9ad3d09fd2e7bce9d": {
      "model_module": "@jupyter-widgets/controls",
      "model_module_version": "1.5.0",
      "model_name": "HBoxModel",
      "state": {
       "_dom_classes": [],
       "_model_module": "@jupyter-widgets/controls",
       "_model_module_version": "1.5.0",
       "_model_name": "HBoxModel",
       "_view_count": null,
       "_view_module": "@jupyter-widgets/controls",
       "_view_module_version": "1.5.0",
       "_view_name": "HBoxView",
       "box_style": "",
       "children": [
        "IPY_MODEL_c1ea357b70b94a698befc40b4e7d7383",
        "IPY_MODEL_3a6bb37584384e4383e29e115a610a9c",
        "IPY_MODEL_0f8b8404bb734f6db3a2c56c3c7ddc6e"
       ],
       "layout": "IPY_MODEL_9689ed38e7c7461fa9c7467a1ce4a958"
      }
     },
     "9689ed38e7c7461fa9c7467a1ce4a958": {
      "model_module": "@jupyter-widgets/base",
      "model_module_version": "1.2.0",
      "model_name": "LayoutModel",
      "state": {
       "_model_module": "@jupyter-widgets/base",
       "_model_module_version": "1.2.0",
       "_model_name": "LayoutModel",
       "_view_count": null,
       "_view_module": "@jupyter-widgets/base",
       "_view_module_version": "1.2.0",
       "_view_name": "LayoutView",
       "align_content": null,
       "align_items": null,
       "align_self": null,
       "border": null,
       "bottom": null,
       "display": null,
       "flex": null,
       "flex_flow": null,
       "grid_area": null,
       "grid_auto_columns": null,
       "grid_auto_flow": null,
       "grid_auto_rows": null,
       "grid_column": null,
       "grid_gap": null,
       "grid_row": null,
       "grid_template_areas": null,
       "grid_template_columns": null,
       "grid_template_rows": null,
       "height": null,
       "justify_content": null,
       "justify_items": null,
       "left": null,
       "margin": null,
       "max_height": null,
       "max_width": null,
       "min_height": null,
       "min_width": null,
       "object_fit": null,
       "object_position": null,
       "order": null,
       "overflow": null,
       "overflow_x": null,
       "overflow_y": null,
       "padding": null,
       "right": null,
       "top": null,
       "visibility": null,
       "width": null
      }
     },
     "b33f8b0631ee42ee93456c2af9091912": {
      "model_module": "@jupyter-widgets/base",
      "model_module_version": "1.2.0",
      "model_name": "LayoutModel",
      "state": {
       "_model_module": "@jupyter-widgets/base",
       "_model_module_version": "1.2.0",
       "_model_name": "LayoutModel",
       "_view_count": null,
       "_view_module": "@jupyter-widgets/base",
       "_view_module_version": "1.2.0",
       "_view_name": "LayoutView",
       "align_content": null,
       "align_items": null,
       "align_self": null,
       "border": null,
       "bottom": null,
       "display": null,
       "flex": null,
       "flex_flow": null,
       "grid_area": null,
       "grid_auto_columns": null,
       "grid_auto_flow": null,
       "grid_auto_rows": null,
       "grid_column": null,
       "grid_gap": null,
       "grid_row": null,
       "grid_template_areas": null,
       "grid_template_columns": null,
       "grid_template_rows": null,
       "height": null,
       "justify_content": null,
       "justify_items": null,
       "left": null,
       "margin": null,
       "max_height": null,
       "max_width": null,
       "min_height": null,
       "min_width": null,
       "object_fit": null,
       "object_position": null,
       "order": null,
       "overflow": null,
       "overflow_x": null,
       "overflow_y": null,
       "padding": null,
       "right": null,
       "top": null,
       "visibility": null,
       "width": null
      }
     },
     "b3c47a606fc044ddb919678e9db33628": {
      "model_module": "@jupyter-widgets/controls",
      "model_module_version": "1.5.0",
      "model_name": "DescriptionStyleModel",
      "state": {
       "_model_module": "@jupyter-widgets/controls",
       "_model_module_version": "1.5.0",
       "_model_name": "DescriptionStyleModel",
       "_view_count": null,
       "_view_module": "@jupyter-widgets/base",
       "_view_module_version": "1.2.0",
       "_view_name": "StyleView",
       "description_width": ""
      }
     },
     "bb3a69bae1bf4f5f9967c6a0650ad8a7": {
      "model_module": "@jupyter-widgets/base",
      "model_module_version": "1.2.0",
      "model_name": "LayoutModel",
      "state": {
       "_model_module": "@jupyter-widgets/base",
       "_model_module_version": "1.2.0",
       "_model_name": "LayoutModel",
       "_view_count": null,
       "_view_module": "@jupyter-widgets/base",
       "_view_module_version": "1.2.0",
       "_view_name": "LayoutView",
       "align_content": null,
       "align_items": null,
       "align_self": null,
       "border": null,
       "bottom": null,
       "display": null,
       "flex": null,
       "flex_flow": null,
       "grid_area": null,
       "grid_auto_columns": null,
       "grid_auto_flow": null,
       "grid_auto_rows": null,
       "grid_column": null,
       "grid_gap": null,
       "grid_row": null,
       "grid_template_areas": null,
       "grid_template_columns": null,
       "grid_template_rows": null,
       "height": null,
       "justify_content": null,
       "justify_items": null,
       "left": null,
       "margin": null,
       "max_height": null,
       "max_width": null,
       "min_height": null,
       "min_width": null,
       "object_fit": null,
       "object_position": null,
       "order": null,
       "overflow": null,
       "overflow_x": null,
       "overflow_y": null,
       "padding": null,
       "right": null,
       "top": null,
       "visibility": null,
       "width": null
      }
     },
     "c1ea357b70b94a698befc40b4e7d7383": {
      "model_module": "@jupyter-widgets/controls",
      "model_module_version": "1.5.0",
      "model_name": "HTMLModel",
      "state": {
       "_dom_classes": [],
       "_model_module": "@jupyter-widgets/controls",
       "_model_module_version": "1.5.0",
       "_model_name": "HTMLModel",
       "_view_count": null,
       "_view_module": "@jupyter-widgets/controls",
       "_view_module_version": "1.5.0",
       "_view_name": "HTMLView",
       "description": "",
       "description_tooltip": null,
       "layout": "IPY_MODEL_b33f8b0631ee42ee93456c2af9091912",
       "placeholder": "​",
       "style": "IPY_MODEL_0d846e978a8143a2ba494b58420ed067",
       "value": "100%"
      }
     },
     "fdeafc39a9f24ec592cf3b625746cc77": {
      "model_module": "@jupyter-widgets/controls",
      "model_module_version": "1.5.0",
      "model_name": "ProgressStyleModel",
      "state": {
       "_model_module": "@jupyter-widgets/controls",
       "_model_module_version": "1.5.0",
       "_model_name": "ProgressStyleModel",
       "_view_count": null,
       "_view_module": "@jupyter-widgets/base",
       "_view_module_version": "1.2.0",
       "_view_name": "StyleView",
       "bar_color": null,
       "description_width": ""
      }
     }
    },
    "version_major": 2,
    "version_minor": 0
   }
  }
 },
 "nbformat": 4,
 "nbformat_minor": 5
}
